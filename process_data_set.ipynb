{
 "cells": [
  {
   "cell_type": "code",
   "execution_count": 1,
   "metadata": {},
   "outputs": [],
   "source": [
    "import os\n",
    "from os.path import join, exists\n",
    "from shutil import copy\n",
    "from random import sample\n",
    "from tqdm import tqdm"
   ]
  },
  {
   "cell_type": "code",
   "execution_count": 3,
   "metadata": {},
   "outputs": [
    {
     "name": "stderr",
     "output_type": "stream",
     "text": [
      " 95%|█████████▍| 18/19 [00:00<00:00, 61.02it/s]\n"
     ]
    },
    {
     "data": {
      "text/plain": [
       "{'a': {'total': [9265, 5],\n",
       "  'a.vay_nen_do_da_toan_thanh': 1998,\n",
       "  'a.vay_nen_the_mu': 2492,\n",
       "  'a.vay_nen_thong_thuong': 3797,\n",
       "  'a.vay_phan_do_nang_long': 654,\n",
       "  'a.vay_phan_hong': 324},\n",
       " 'b': {'total': [2701, 3],\n",
       "  'b.ung_thu_hac_to': 531,\n",
       "  'b.ung_thu_te_bao_day': 1301,\n",
       "  'b.ung_thu_te_bao_vay': 869},\n",
       " 'c': {'total': [19319, 6],\n",
       "  'c.viem_da_co_dia_ban_cap': 4302,\n",
       "  'c.viem_da_co_dia_cap_tinh': 4332,\n",
       "  'c.viem_da_co_dia_man_tinh': 5168,\n",
       "  'c.viem_da_dau': 2355,\n",
       "  'c.viem_da_tiep_xuc_di_ung': 2970,\n",
       "  'c.viem_da_u_tre': 192},\n",
       " 'd': {'total': [3128, 4],\n",
       "  'd.benh_da_khac': 1095,\n",
       "  'd.day_sung_da_dau': 1307,\n",
       "  'd.lao_da': 57,\n",
       "  'd.nam_sau': 669}}"
      ]
     },
     "execution_count": 3,
     "metadata": {},
     "output_type": "execute_result"
    }
   ],
   "source": [
    "ori_path = '/mnt/g/Code/Dataset/benh_ngoai_da/'\n",
    "class_count = {\n",
    "    'a': {\"total\": [0,0]} ,\n",
    "    'b': {\"total\": [0,0]} ,\n",
    "    'c': {\"total\": [0,0]} ,\n",
    "    'd': {\"total\": [0,0]} \n",
    "}\n",
    "for class_folder in tqdm(os.listdir(ori_path)):\n",
    "    n = len(os.listdir(join(ori_path, class_folder)))\n",
    "    if class_folder[0] == 'e': break\n",
    "    class_count[class_folder[0]]['total'][0] += n\n",
    "    class_count[class_folder[0]]['total'][1] += 1\n",
    "    class_count[class_folder[0]][class_folder] = n\n",
    "class_count"
   ]
  },
  {
   "cell_type": "code",
   "execution_count": 4,
   "metadata": {},
   "outputs": [],
   "source": [
    "def sample_image_folder(src, dst, cfg , c=2700):\n",
    "    subclass = {\"name\":[], \"count\":[]}\n",
    "\n",
    "    for i in range(len(cfg) - 1):\n",
    "        min = [10000,'']\n",
    "        for class_ in cfg:\n",
    "            if class_ == 'total' or class_ in subclass['name']:\n",
    "                continue\n",
    "            n = len(os.listdir(join(src, class_)))\n",
    "            if min[0] > n :\n",
    "                min[0] = n\n",
    "                min[1] = class_\n",
    "\n",
    "        subclass['name'].append(min[1])\n",
    "        subclass['count'].append(min[0])\n",
    "\n",
    "    for idx, folder in enumerate(tqdm(subclass['name'])):\n",
    "        n = c // (len(subclass['name']) - idx)\n",
    "        \n",
    "        if subclass['count'][idx] < n:\n",
    "            n = subclass['count'][idx]\n",
    "        c = c - n\n",
    "        \n",
    "        for file in sample(os.listdir(join(src, folder)), n):\n",
    "            copy(f'{src}/{folder}/{file}', f'{dst}')"
   ]
  },
  {
   "cell_type": "code",
   "execution_count": 5,
   "metadata": {},
   "outputs": [
    {
     "name": "stderr",
     "output_type": "stream",
     "text": [
      "100%|██████████| 5/5 [00:25<00:00,  5.18s/it]\n",
      "100%|██████████| 3/3 [00:23<00:00,  7.72s/it]\n",
      "100%|██████████| 6/6 [00:22<00:00,  3.77s/it]\n",
      "100%|██████████| 4/4 [00:21<00:00,  5.40s/it]\n"
     ]
    }
   ],
   "source": [
    "new_path = '/mnt/g/Code/Dataset/skin_illness_test'\n",
    "for class_ in os.listdir(new_path):\n",
    "    tmp_path = join(new_path, class_)\n",
    "\n",
    "    sample_image_folder(ori_path, tmp_path, class_count[class_[0]], c=300)"
   ]
  }
 ],
 "metadata": {
  "kernelspec": {
   "display_name": "dinov2",
   "language": "python",
   "name": "python3"
  },
  "language_info": {
   "codemirror_mode": {
    "name": "ipython",
    "version": 3
   },
   "file_extension": ".py",
   "mimetype": "text/x-python",
   "name": "python",
   "nbconvert_exporter": "python",
   "pygments_lexer": "ipython3",
   "version": "3.12.5"
  }
 },
 "nbformat": 4,
 "nbformat_minor": 2
}
