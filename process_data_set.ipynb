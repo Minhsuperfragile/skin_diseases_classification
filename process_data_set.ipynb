{
 "cells": [
  {
   "cell_type": "code",
   "execution_count": 5,
   "metadata": {},
   "outputs": [],
   "source": [
    "import os\n",
    "from os.path import join, exists\n",
    "from shutil import copy\n",
    "from random import sample\n",
    "from tqdm import tqdm"
   ]
  },
  {
   "cell_type": "code",
   "execution_count": null,
   "metadata": {},
   "outputs": [],
   "source": [
    "ori_path = '/mnt/g/Code/Dataset/benh_ngoai_da/'\n",
    "class_count = {\n",
    "    'a': {\"total\": [0,0]} ,\n",
    "    'b': {\"total\": [0,0]} ,\n",
    "    'c': {\"total\": [0,0]} ,\n",
    "    'd': {\"total\": [0,0]} ,\n",
    "}\n",
    "for class_folder in tqdm(os.listdir(ori_path)):\n",
    "    n = len(os.listdir(join(ori_path, class_folder)))\n",
    "\n",
    "    class_count[class_folder[0]]['total'][0] += n\n",
    "    class_count[class_folder[0]]['total'][1] += 1\n",
    "    class_count[class_folder[0]][class_folder] = n\n",
    "class_count"
   ]
  },
  {
   "cell_type": "code",
   "execution_count": 44,
   "metadata": {},
   "outputs": [],
   "source": [
    "def sample_image_folder(src, dst, cfg , c=2700):\n",
    "    subclass = {\"name\":[], \"count\":[]}\n",
    "\n",
    "    for i in range(len(cfg) - 1):\n",
    "        min = [10000,'']\n",
    "        for class_ in cfg:\n",
    "            if class_ == 'total' or class_ in subclass['name']:\n",
    "                continue\n",
    "            n = len(os.listdir(join(src, class_)))\n",
    "            if min[0] > n :\n",
    "                min[0] = n\n",
    "                min[1] = class_\n",
    "\n",
    "        subclass['name'].append(min[1])\n",
    "        subclass['count'].append(min[0])\n",
    "\n",
    "    for idx, folder in enumerate(tqdm(subclass['name'])):\n",
    "        n = c // (len(subclass['name']) - idx)\n",
    "        \n",
    "        if subclass['count'][idx] < n:\n",
    "            n = subclass['count'][idx]\n",
    "        c = c - n\n",
    "        \n",
    "        for file in sample(os.listdir(join(src, folder)), n):\n",
    "            copy(f'{src}/{folder}/{file}', f'{dst}')"
   ]
  },
  {
   "cell_type": "code",
   "execution_count": 45,
   "metadata": {},
   "outputs": [
    {
     "name": "stderr",
     "output_type": "stream",
     "text": [
      "100%|██████████| 6/6 [01:28<00:00, 14.78s/it]\n"
     ]
    }
   ],
   "source": [
    "new_path = '/mnt/g/Code/Dataset/skin_illness/viem_da'\n",
    "sample_image_folder(ori_path, new_path, class_count['c'])"
   ]
  }
 ],
 "metadata": {
  "kernelspec": {
   "display_name": "dinov2",
   "language": "python",
   "name": "python3"
  },
  "language_info": {
   "codemirror_mode": {
    "name": "ipython",
    "version": 3
   },
   "file_extension": ".py",
   "mimetype": "text/x-python",
   "name": "python",
   "nbconvert_exporter": "python",
   "pygments_lexer": "ipython3",
   "version": "3.12.5"
  }
 },
 "nbformat": 4,
 "nbformat_minor": 2
}
