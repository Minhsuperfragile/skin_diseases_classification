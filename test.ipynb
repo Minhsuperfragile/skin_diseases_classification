{
 "cells": [
  {
   "cell_type": "code",
   "execution_count": 1,
   "metadata": {},
   "outputs": [],
   "source": [
    "import numpy as np"
   ]
  },
  {
   "cell_type": "code",
   "execution_count": 2,
   "metadata": {},
   "outputs": [],
   "source": [
    "pred = np.load(r'model_eval/omg_pred.npy')"
   ]
  },
  {
   "cell_type": "code",
   "execution_count": 3,
   "metadata": {},
   "outputs": [],
   "source": [
    "truth = np.load(r'model_eval/omg_truth.npy')"
   ]
  },
  {
   "cell_type": "code",
   "execution_count": 4,
   "metadata": {},
   "outputs": [
    {
     "data": {
      "text/plain": [
       "array([-2.362763  ,  0.6168608 , -1.2409886 , ...,  0.17150979,\n",
       "       -2.4526656 ,  4.7450037 ], dtype=float32)"
      ]
     },
     "execution_count": 4,
     "metadata": {},
     "output_type": "execute_result"
    }
   ],
   "source": [
    "pred.flatten()"
   ]
  },
  {
   "cell_type": "code",
   "execution_count": 5,
   "metadata": {},
   "outputs": [
    {
     "data": {
      "text/plain": [
       "array([[ 1.5535333 , -1.1668344 , -2.201274  , -1.9783983 ],\n",
       "       [-1.3344238 , -0.5501982 ,  2.8137956 , -2.92661   ],\n",
       "       [-2.3434997 ,  1.520176  , -1.5432655 , -2.9639792 ],\n",
       "       [-1.5643151 , -0.12651184, -3.2080956 ,  1.165027  ],\n",
       "       [-1.5634298 , -0.1784634 , -2.8543673 ,  0.49635807],\n",
       "       [ 2.078136  , -0.9436459 , -2.3002567 , -1.4387816 ],\n",
       "       [-0.66743946,  1.0426115 , -2.9561844 , -1.1919228 ],\n",
       "       [ 0.8920883 , -1.1617936 , -1.9453028 , -1.4626585 ],\n",
       "       [-2.5224743 ,  0.03795712,  1.2289934 , -2.841834  ],\n",
       "       [ 0.1833676 ,  0.23290235, -3.0713475 , -1.8182765 ],\n",
       "       [-2.0813067 ,  1.5762017 , -1.8663827 , -1.70691   ],\n",
       "       [ 2.6877756 , -1.1309059 , -2.283799  , -2.151875  ],\n",
       "       [ 2.3000617 , -0.6156103 , -1.6044983 , -2.6526666 ],\n",
       "       [-1.8086963 , -0.74639314, -1.1761595 ,  1.6209861 ],\n",
       "       [-1.370871  , -0.8817163 ,  2.6007087 , -3.1510549 ],\n",
       "       [-1.5699731 , -0.96581715, -2.3911302 ,  2.1988215 ],\n",
       "       [ 1.2789621 , -0.66721666, -3.0505264 , -1.2878212 ],\n",
       "       [-0.6891019 ,  1.6989939 , -2.7964804 , -1.8514068 ],\n",
       "       [-1.7802005 ,  0.17279854,  3.2023637 , -2.7501493 ],\n",
       "       [-3.2056203 ,  0.86898047,  1.4820157 , -2.4068518 ],\n",
       "       [-2.1946313 ,  0.5575449 , -0.6795916 , -0.27292675],\n",
       "       [-1.0430697 ,  0.0436533 , -0.9539327 , -0.7782797 ],\n",
       "       [-3.5352097 , -0.71487135, -2.015131  ,  0.93880683],\n",
       "       [-2.4164743 , -0.18331265, -2.0706134 ,  2.4397025 ],\n",
       "       [-1.7676688 , -1.335073  , -1.473679  ,  3.1499147 ],\n",
       "       [-0.26792258,  0.7841793 , -3.146673  , -1.4793645 ],\n",
       "       [-2.234174  ,  0.26134765, -2.5318444 , -0.2036308 ],\n",
       "       [-0.84515977,  0.30116177, -3.490869  , -0.4253265 ],\n",
       "       [ 1.0106258 , -1.0892379 , -2.4426758 , -1.0256078 ],\n",
       "       [-2.6349554 , -0.1909486 , -1.9191217 ,  0.9439605 ],\n",
       "       [ 1.6975708 , -0.4505704 , -2.023355  , -1.9936175 ],\n",
       "       [-1.9575944 , -0.12775755,  2.8934886 , -3.0018759 ]],\n",
       "      dtype=float32)"
      ]
     },
     "execution_count": 5,
     "metadata": {},
     "output_type": "execute_result"
    }
   ],
   "source": [
    "pred[0]"
   ]
  },
  {
   "cell_type": "code",
   "execution_count": 5,
   "metadata": {},
   "outputs": [
    {
     "data": {
      "text/plain": [
       "1280"
      ]
     },
     "execution_count": 5,
     "metadata": {},
     "output_type": "execute_result"
    }
   ],
   "source": [
    "_pred = []\n",
    "for pred_ in pred:\n",
    "    for pred__ in pred_:\n",
    "\n",
    "        _pred.append(np.argmax(pred__).item())\n",
    "len(_pred)"
   ]
  },
  {
   "cell_type": "code",
   "execution_count": 6,
   "metadata": {},
   "outputs": [],
   "source": [
    "_pred = np.array(_pred).reshape(40,32).flatten()"
   ]
  },
  {
   "cell_type": "code",
   "execution_count": 7,
   "metadata": {},
   "outputs": [
    {
     "data": {
      "text/plain": [
       "array([3, 3, 2, ..., 2, 1, 3])"
      ]
     },
     "execution_count": 7,
     "metadata": {},
     "output_type": "execute_result"
    }
   ],
   "source": [
    "_pred"
   ]
  },
  {
   "cell_type": "code",
   "execution_count": 8,
   "metadata": {},
   "outputs": [],
   "source": [
    "_truth = truth.flatten()"
   ]
  },
  {
   "cell_type": "code",
   "execution_count": 9,
   "metadata": {},
   "outputs": [
    {
     "data": {
      "text/plain": [
       "array([3, 3, 2, ..., 2, 1, 3])"
      ]
     },
     "execution_count": 9,
     "metadata": {},
     "output_type": "execute_result"
    }
   ],
   "source": [
    "_truth"
   ]
  },
  {
   "cell_type": "code",
   "execution_count": 10,
   "metadata": {},
   "outputs": [
    {
     "name": "stdout",
     "output_type": "stream",
     "text": [
      "Class 0: Precision = 0.99, Recall = 0.89, F1-Score = 0.94\n",
      "Class 1: Precision = 0.93, Recall = 0.91, F1-Score = 0.92\n",
      "Class 2: Precision = 0.98, Recall = 0.98, F1-Score = 0.98\n",
      "Class 3: Precision = 0.90, Recall = 1.00, F1-Score = 0.94\n",
      "\n",
      "Macro-Averaged Precision: 0.95\n",
      "Macro-Averaged Recall: 0.95\n",
      "Macro-Averaged F1-Score: 0.95\n"
     ]
    }
   ],
   "source": [
    "classes = np.unique(_truth)\n",
    "\n",
    "# Initialize variables to store results\n",
    "precision_scores = []\n",
    "recall_scores = []\n",
    "f1_scores = []\n",
    "\n",
    "# Loop over each class and compute precision, recall, and F1-score\n",
    "for cls in classes:\n",
    "    # True Positives (TP): Both y_true and y_pred are cls\n",
    "    TP = np.sum((_truth == cls) & (_pred == cls))\n",
    "    \n",
    "    # False Positives (FP): _pred is cls, but _truth is not\n",
    "    FP = np.sum((_truth != cls) & (_pred == cls))\n",
    "    \n",
    "    # False Negatives (FN): _truth is cls, but _pred is not\n",
    "    FN = np.sum((_truth == cls) & (_pred != cls))\n",
    "    \n",
    "    # Precision: TP / (TP + FP)\n",
    "    precision = TP / (TP + FP) if (TP + FP) > 0 else 0\n",
    "    \n",
    "    # Recall: TP / (TP + FN)\n",
    "    recall = TP / (TP + FN) if (TP + FN) > 0 else 0\n",
    "    \n",
    "    # F1-score: 2 * (Precision * Recall) / (Precision + Recall)\n",
    "    f1 = 2 * (precision * recall) / (precision + recall) if (precision + recall) > 0 else 0\n",
    "    \n",
    "    # Store results\n",
    "    precision_scores.append(precision)\n",
    "    recall_scores.append(recall)\n",
    "    f1_scores.append(f1)\n",
    "\n",
    "# Display the results for each class\n",
    "for i, cls in enumerate(classes):\n",
    "    print(f\"Class {cls}: Precision = {precision_scores[i]:.2f}, Recall = {recall_scores[i]:.2f}, F1-Score = {f1_scores[i]:.2f}\")\n",
    "\n",
    "# Average (Macro-Averaging)\n",
    "macro_precision = np.mean(precision_scores)\n",
    "macro_recall = np.mean(recall_scores)\n",
    "macro_f1 = np.mean(f1_scores)\n",
    "\n",
    "print(f\"\\nMacro-Averaged Precision: {macro_precision:.2f}\")\n",
    "print(f\"Macro-Averaged Recall: {macro_recall:.2f}\")\n",
    "print(f\"Macro-Averaged F1-Score: {macro_f1:.2f}\")"
   ]
  },
  {
   "cell_type": "code",
   "execution_count": 11,
   "metadata": {},
   "outputs": [
    {
     "name": "stdout",
     "output_type": "stream",
     "text": [
      "Accuracy : 94.921875%\n"
     ]
    }
   ],
   "source": [
    "accuracy = np.sum(_pred == _truth) / len(_truth)\n",
    "print(f\"Accuracy : {accuracy*100}%\")"
   ]
  },
  {
   "cell_type": "code",
   "execution_count": 12,
   "metadata": {},
   "outputs": [
    {
     "data": {
      "text/plain": [
       "Text(45.722222222222214, 0.5, 'True Label')"
      ]
     },
     "execution_count": 12,
     "metadata": {},
     "output_type": "execute_result"
    },
    {
     "data": {
      "image/png": "[encoded data removed]",
      "text/plain": [
       "<Figure size 600x400 with 2 Axes>"
      ]
     },
     "metadata": {},
     "output_type": "display_data"
    }
   ],
   "source": [
    "from sklearn.metrics import confusion_matrix\n",
    "import seaborn as sns\n",
    "import matplotlib.pyplot as plt\n",
    "\n",
    "cm = confusion_matrix(_truth, _pred)\n",
    "\n",
    "plt.figure(figsize=(6, 4))\n",
    "\n",
    "# Create the heatmap using seaborn\n",
    "sns.heatmap(cm, annot=True, fmt=\"d\", cmap=\"Blues\", xticklabels=np.unique(_truth), yticklabels=np.unique(_pred))\n",
    "\n",
    "# Add labels and title\n",
    "plt.title(\"Confusion Matrix\")\n",
    "plt.xlabel(\"Predicted Label\")\n",
    "plt.ylabel(\"True Label\")"
   ]
  }
 ],
 "metadata": {
  "kernelspec": {
   "display_name": "Python 3",
   "language": "python",
   "name": "python3"
  },
  "language_info": {
   "codemirror_mode": {
    "name": "ipython",
    "version": 3
   },
   "file_extension": ".py",
   "mimetype": "text/x-python",
   "name": "python",
   "nbconvert_exporter": "python",
   "pygments_lexer": "ipython3",
   "version": "3.12.5"
  }
 },
 "nbformat": 4,
 "nbformat_minor": 2
}
